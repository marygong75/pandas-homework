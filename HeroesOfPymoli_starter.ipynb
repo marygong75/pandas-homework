{
 "cells": [
  {
   "cell_type": "markdown",
   "metadata": {},
   "source": [
    "### Heroes Of Pymoli Data Analysis\n",
    "* Of the 1163 active players, the vast majority are male (84%). There also exists, a smaller, but notable proportion of female players (14%).\n",
    "\n",
    "* Our peak age demographic falls between 20-24 (44.8%) with secondary groups falling between 15-19 (18.60%) and 25-29 (13.4%).  \n",
    "-----"
   ]
  },
  {
   "cell_type": "markdown",
   "metadata": {},
   "source": [
    "### Note\n",
    "* Instructions have been included for each segment. You do not have to follow them exactly, but they are included to help you think through the steps."
   ]
  },
  {
   "cell_type": "code",
   "execution_count": 3,
   "metadata": {},
   "outputs": [
    {
     "data": {
      "text/html": [
       "<div>\n",
       "<style scoped>\n",
       "    .dataframe tbody tr th:only-of-type {\n",
       "        vertical-align: middle;\n",
       "    }\n",
       "\n",
       "    .dataframe tbody tr th {\n",
       "        vertical-align: top;\n",
       "    }\n",
       "\n",
       "    .dataframe thead th {\n",
       "        text-align: right;\n",
       "    }\n",
       "</style>\n",
       "<table border=\"1\" class=\"dataframe\">\n",
       "  <thead>\n",
       "    <tr style=\"text-align: right;\">\n",
       "      <th></th>\n",
       "      <th>Purchase ID</th>\n",
       "      <th>SN</th>\n",
       "      <th>Age</th>\n",
       "      <th>Gender</th>\n",
       "      <th>Item ID</th>\n",
       "      <th>Item Name</th>\n",
       "      <th>Price</th>\n",
       "    </tr>\n",
       "  </thead>\n",
       "  <tbody>\n",
       "    <tr>\n",
       "      <th>0</th>\n",
       "      <td>0</td>\n",
       "      <td>Lisim78</td>\n",
       "      <td>20</td>\n",
       "      <td>Male</td>\n",
       "      <td>108</td>\n",
       "      <td>Extraction, Quickblade Of Trembling Hands</td>\n",
       "      <td>3.53</td>\n",
       "    </tr>\n",
       "    <tr>\n",
       "      <th>1</th>\n",
       "      <td>1</td>\n",
       "      <td>Lisovynya38</td>\n",
       "      <td>40</td>\n",
       "      <td>Male</td>\n",
       "      <td>143</td>\n",
       "      <td>Frenzied Scimitar</td>\n",
       "      <td>1.56</td>\n",
       "    </tr>\n",
       "    <tr>\n",
       "      <th>2</th>\n",
       "      <td>2</td>\n",
       "      <td>Ithergue48</td>\n",
       "      <td>24</td>\n",
       "      <td>Male</td>\n",
       "      <td>92</td>\n",
       "      <td>Final Critic</td>\n",
       "      <td>4.88</td>\n",
       "    </tr>\n",
       "    <tr>\n",
       "      <th>3</th>\n",
       "      <td>3</td>\n",
       "      <td>Chamassasya86</td>\n",
       "      <td>24</td>\n",
       "      <td>Male</td>\n",
       "      <td>100</td>\n",
       "      <td>Blindscythe</td>\n",
       "      <td>3.27</td>\n",
       "    </tr>\n",
       "    <tr>\n",
       "      <th>4</th>\n",
       "      <td>4</td>\n",
       "      <td>Iskosia90</td>\n",
       "      <td>23</td>\n",
       "      <td>Male</td>\n",
       "      <td>131</td>\n",
       "      <td>Fury</td>\n",
       "      <td>1.44</td>\n",
       "    </tr>\n",
       "  </tbody>\n",
       "</table>\n",
       "</div>"
      ],
      "text/plain": [
       "   Purchase ID             SN  Age Gender  Item ID  \\\n",
       "0            0        Lisim78   20   Male      108   \n",
       "1            1    Lisovynya38   40   Male      143   \n",
       "2            2     Ithergue48   24   Male       92   \n",
       "3            3  Chamassasya86   24   Male      100   \n",
       "4            4      Iskosia90   23   Male      131   \n",
       "\n",
       "                                   Item Name  Price  \n",
       "0  Extraction, Quickblade Of Trembling Hands   3.53  \n",
       "1                          Frenzied Scimitar   1.56  \n",
       "2                               Final Critic   4.88  \n",
       "3                                Blindscythe   3.27  \n",
       "4                                       Fury   1.44  "
      ]
     },
     "execution_count": 3,
     "metadata": {},
     "output_type": "execute_result"
    }
   ],
   "source": [
    "# Dependencies and Setup\n",
    "import pandas as pd\n",
    "import numpy as np\n",
    "\n",
    "# File to Load (Remember to Change These)\n",
    "file_to_load = \"Resources/purchase_data.csv\"\n",
    "\n",
    "# Read Purchasing File and store into Pandas data frame\n",
    "purchase_data = pd.read_csv(file_to_load)\n",
    "purchase_data.head()"
   ]
  },
  {
   "cell_type": "markdown",
   "metadata": {},
   "source": [
    "## Player Count"
   ]
  },
  {
   "cell_type": "markdown",
   "metadata": {},
   "source": [
    "* Display the total number of players\n"
   ]
  },
  {
   "cell_type": "code",
   "execution_count": 5,
   "metadata": {},
   "outputs": [
    {
     "data": {
      "text/plain": [
       "Lisosia93         5\n",
       "Iral74            4\n",
       "Idastidru52       4\n",
       "Lassilsala30      3\n",
       "Ilarin91          3\n",
       "Phaena87          3\n",
       "Saistyphos30      3\n",
       "Asur53            3\n",
       "Inguron55         3\n",
       "Saedaiphos46      3\n",
       "Chanastnya43      3\n",
       "Hiaral50          3\n",
       "Yathecal82        3\n",
       "Ialallo29         3\n",
       "Lisopela58        3\n",
       "Zontibe81         3\n",
       "Aelin32           3\n",
       "Chadolyla44       3\n",
       "Rarallo90         3\n",
       "Lisim78           3\n",
       "Phyali88          3\n",
       "Siallylis44       3\n",
       "Hada39            3\n",
       "Chamjask73        3\n",
       "Aina42            3\n",
       "Haillyrgue51      3\n",
       "Umolrian85        3\n",
       "Tyisur83          3\n",
       "Pheodaisun84      3\n",
       "Iskadarya95       3\n",
       "                 ..\n",
       "Liawista80        1\n",
       "Haerith37         1\n",
       "Tyananurgue44     1\n",
       "Aidain51          1\n",
       "Chadjask77        1\n",
       "Eudanu84          1\n",
       "Undimsya85        1\n",
       "Aellyria80        1\n",
       "Heollyriap59      1\n",
       "Aiduesu86         1\n",
       "Maradaran90       1\n",
       "Eulae84           1\n",
       "Alaesu91          1\n",
       "Shaidanu32        1\n",
       "Raisty38          1\n",
       "Frichadar89       1\n",
       "Assjaskan73       1\n",
       "Frichaya88        1\n",
       "Tyaelo67          1\n",
       "Minduri31         1\n",
       "Yarithllodeu72    1\n",
       "Ristydru66        1\n",
       "Irithlis29        1\n",
       "Chanosia34        1\n",
       "Chamadarnya73     1\n",
       "Yasrisu92         1\n",
       "Filurarn35        1\n",
       "Yastyriaphos75    1\n",
       "Ilassast39        1\n",
       "Ethralista69      1\n",
       "Name: SN, Length: 576, dtype: int64"
      ]
     },
     "execution_count": 5,
     "metadata": {},
     "output_type": "execute_result"
    }
   ],
   "source": [
    "purchase_data['SN'].value_counts()"
   ]
  },
  {
   "cell_type": "markdown",
   "metadata": {},
   "source": [
    "## Purchasing Analysis (Total)"
   ]
  },
  {
   "cell_type": "markdown",
   "metadata": {},
   "source": [
    "* Run basic calculations to obtain number of unique items, average price, etc.\n",
    "\n",
    "\n",
    "* Create a summary data frame to hold the results\n",
    "\n",
    "\n",
    "* Optional: give the displayed data cleaner formatting\n",
    "\n",
    "\n",
    "* Display the summary data frame\n"
   ]
  },
  {
   "cell_type": "code",
   "execution_count": 15,
   "metadata": {
    "scrolled": true
   },
   "outputs": [
    {
     "data": {
      "text/plain": [
       "Final Critic                                    13\n",
       "Oathbreaker, Last Hope of the Breaking Storm    12\n",
       "Persuasion                                       9\n",
       "Fiery Glass Crusader                             9\n",
       "Nirvana                                          9\n",
       "Extraction, Quickblade Of Trembling Hands        9\n",
       "Shadow Strike, Glory of Ending Hope              8\n",
       "Winter's Bite                                    8\n",
       "Singed Scalpel                                   8\n",
       "Brutality Ivory Warmace                          8\n",
       "Wolf                                             8\n",
       "Retribution Axe                                  8\n",
       "Lightning, Etcher of the King                    8\n",
       "Pursuit, Cudgel of Necromancy                    8\n",
       "Suspension                                       7\n",
       "Thorn, Satchel of Dark Souls                     7\n",
       "Oathbreaker, Spellblade of Trials                7\n",
       "Exiled Doomblade                                 7\n",
       "Vengeance Cleaver                                7\n",
       "Heartstriker, Legacy of the Light                7\n",
       "Demise                                           7\n",
       "Glimmer, Ender of the Moon                       7\n",
       "Malificent Bag                                   7\n",
       "Ghastly Adamantite Protector                     6\n",
       "Dawne                                            6\n",
       "Azurewrath                                       6\n",
       "Fate, Vengeance of Eternal Justice               6\n",
       "Blood-Forged Skeletal Spine                      6\n",
       "Verdict                                          6\n",
       "Blood Infused Guardian                           6\n",
       "                                                ..\n",
       "Winterthorn, Defender of Shifting Worlds         2\n",
       "Foul Edge                                        2\n",
       "Rage, Legacy of the Lone Victor                  2\n",
       "Curved Axe                                       2\n",
       "Foul Titanium Battle Axe                         2\n",
       "Darkheart, Butcher of the Champion               2\n",
       "Trickster                                        2\n",
       "Relentless Iron Skewer                           2\n",
       "Unholy Wand                                      2\n",
       "Possessed Core                                   2\n",
       "Spectral Diamond Doomblade                       2\n",
       "Rusty Skull                                      2\n",
       "Torchlight, Bond of Storms                       2\n",
       "Frenzy, Defender of the Harvest                  2\n",
       "Heartseeker, Reaver of Souls                     2\n",
       "Dreamkiss                                        2\n",
       "Stormfury Longsword                              2\n",
       "Whistling Mithril Warblade                       2\n",
       "Stormfury Mace                                   2\n",
       "Sun Strike, Jaws of Twisted Visions              2\n",
       "The Decapitator                                  1\n",
       "Endbringer                                       1\n",
       "Exiled Mithril Longsword                         1\n",
       "Ghost Reaver, Longsword of Magic                 1\n",
       "Gladiator's Glaive                               1\n",
       "Undead Crusader                                  1\n",
       "Alpha, Reach of Ending Hope                      1\n",
       "Betrayer                                         1\n",
       "Riddle, Tribute of Ended Dreams                  1\n",
       "Celeste                                          1\n",
       "Name: Item Name, Length: 179, dtype: int64"
      ]
     },
     "execution_count": 15,
     "metadata": {},
     "output_type": "execute_result"
    }
   ],
   "source": [
    "purchase_data['Item Name'].value_counts()\n",
    "\n"
   ]
  },
  {
   "cell_type": "code",
   "execution_count": 14,
   "metadata": {},
   "outputs": [
    {
     "data": {
      "text/plain": [
       "3.050987179487176"
      ]
     },
     "execution_count": 14,
     "metadata": {},
     "output_type": "execute_result"
    }
   ],
   "source": [
    "purchase_data['Price'].mean()"
   ]
  },
  {
   "cell_type": "code",
   "execution_count": 13,
   "metadata": {},
   "outputs": [
    {
     "data": {
      "text/plain": [
       "780"
      ]
     },
     "execution_count": 13,
     "metadata": {},
     "output_type": "execute_result"
    }
   ],
   "source": [
    "purchase_data['Purchase ID'].count()"
   ]
  },
  {
   "cell_type": "code",
   "execution_count": 16,
   "metadata": {},
   "outputs": [
    {
     "data": {
      "text/plain": [
       "2379.77"
      ]
     },
     "execution_count": 16,
     "metadata": {},
     "output_type": "execute_result"
    }
   ],
   "source": [
    "purchase_data['Price'].sum()"
   ]
  },
  {
   "cell_type": "markdown",
   "metadata": {},
   "source": [
    "## Gender Demographics"
   ]
  },
  {
   "cell_type": "markdown",
   "metadata": {},
   "source": [
    "* Percentage and Count of Male Players\n",
    "\n",
    "\n",
    "* Percentage and Count of Female Players\n",
    "\n",
    "\n",
    "* Percentage and Count of Other / Non-Disclosed\n",
    "\n",
    "\n"
   ]
  },
  {
   "cell_type": "code",
   "execution_count": 24,
   "metadata": {},
   "outputs": [
    {
     "data": {
      "text/plain": [
       "Male                     83.589744\n",
       "Female                   14.487179\n",
       "Other / Non-Disclosed     1.923077\n",
       "Name: Gender, dtype: float64"
      ]
     },
     "execution_count": 24,
     "metadata": {},
     "output_type": "execute_result"
    }
   ],
   "source": [
    "purchase_data['Gender'].value_counts(normalize=True) * 100"
   ]
  },
  {
   "cell_type": "markdown",
   "metadata": {},
   "source": [
    "\n",
    "## Purchasing Analysis (Gender)"
   ]
  },
  {
   "cell_type": "markdown",
   "metadata": {},
   "source": [
    "* Run basic calculations to obtain purchase count, avg. purchase price, avg. purchase total per person etc. by gender\n",
    "\n",
    "\n",
    "\n",
    "\n",
    "* Create a summary data frame to hold the results\n",
    "\n",
    "\n",
    "* Optional: give the displayed data cleaner formatting\n",
    "\n",
    "\n",
    "* Display the summary data frame"
   ]
  },
  {
   "cell_type": "code",
   "execution_count": 4,
   "metadata": {},
   "outputs": [
    {
     "name": "stdout",
     "output_type": "stream",
     "text": [
      "Gender\n",
      "Female                   113\n",
      "Male                     652\n",
      "Other / Non-Disclosed     15\n",
      "Name: Purchase ID, dtype: int64\n",
      "Gender\n",
      "Female                   3.203009\n",
      "Male                     3.017853\n",
      "Other / Non-Disclosed    3.346000\n",
      "Name: Price, dtype: float64\n",
      "Gender\n",
      "Female                    361.94\n",
      "Male                     1967.64\n",
      "Other / Non-Disclosed      50.19\n",
      "Name: Price, dtype: float64\n",
      "                       Purchase ID        Age    Item ID     Price\n",
      "Gender                                                            \n",
      "Female                  379.380531  21.345133  85.477876  3.203009\n",
      "Male                    392.516871  22.917178  93.524540  3.017853\n",
      "Other / Non-Disclosed   334.600000  24.200000  80.800000  3.346000\n"
     ]
    }
   ],
   "source": [
    "purchase_count = purchase_data.groupby('Gender')['Purchase ID'].nunique()\n",
    "average_price = purchase_data.groupby('Gender')['Price'].mean()\n",
    "total_value = purchase_data.groupby('Gender')['Price'].sum()\n",
    "average_perperson = purchase_data.groupby('Gender').mean()\n",
    "\n",
    "print(purchase_count)\n",
    "print(average_price)\n",
    "print(total_value)\n",
    "print(average_perperson)\n"
   ]
  },
  {
   "cell_type": "markdown",
   "metadata": {},
   "source": [
    "## Age Demographics"
   ]
  },
  {
   "cell_type": "markdown",
   "metadata": {},
   "source": [
    "* Establish bins for ages\n",
    "\n",
    "\n",
    "* Categorize the existing players using the age bins. Hint: use pd.cut()\n",
    "\n",
    "\n",
    "* Calculate the numbers and percentages by age group\n",
    "\n",
    "\n",
    "* Create a summary data frame to hold the results\n",
    "\n",
    "\n",
    "* Optional: round the percentage column to two decimal points\n",
    "\n",
    "\n",
    "* Display Age Demographics Table\n"
   ]
  },
  {
   "cell_type": "code",
   "execution_count": 28,
   "metadata": {},
   "outputs": [
    {
     "data": {
      "text/html": [
       "<div>\n",
       "<style scoped>\n",
       "    .dataframe tbody tr th:only-of-type {\n",
       "        vertical-align: middle;\n",
       "    }\n",
       "\n",
       "    .dataframe tbody tr th {\n",
       "        vertical-align: top;\n",
       "    }\n",
       "\n",
       "    .dataframe thead th {\n",
       "        text-align: right;\n",
       "    }\n",
       "</style>\n",
       "<table border=\"1\" class=\"dataframe\">\n",
       "  <thead>\n",
       "    <tr style=\"text-align: right;\">\n",
       "      <th></th>\n",
       "      <th>count</th>\n",
       "      <th>sum</th>\n",
       "    </tr>\n",
       "    <tr>\n",
       "      <th>Age</th>\n",
       "      <th></th>\n",
       "      <th></th>\n",
       "    </tr>\n",
       "  </thead>\n",
       "  <tbody>\n",
       "    <tr>\n",
       "      <th>(0, 10]</th>\n",
       "      <td>32</td>\n",
       "      <td>271</td>\n",
       "    </tr>\n",
       "    <tr>\n",
       "      <th>(10, 14]</th>\n",
       "      <td>19</td>\n",
       "      <td>229</td>\n",
       "    </tr>\n",
       "    <tr>\n",
       "      <th>(14, 19]</th>\n",
       "      <td>136</td>\n",
       "      <td>2284</td>\n",
       "    </tr>\n",
       "    <tr>\n",
       "      <th>(19, 24]</th>\n",
       "      <td>365</td>\n",
       "      <td>7971</td>\n",
       "    </tr>\n",
       "    <tr>\n",
       "      <th>(24, 29]</th>\n",
       "      <td>101</td>\n",
       "      <td>2626</td>\n",
       "    </tr>\n",
       "    <tr>\n",
       "      <th>(29, 34]</th>\n",
       "      <td>73</td>\n",
       "      <td>2291</td>\n",
       "    </tr>\n",
       "    <tr>\n",
       "      <th>(34, 39]</th>\n",
       "      <td>41</td>\n",
       "      <td>1505</td>\n",
       "    </tr>\n",
       "    <tr>\n",
       "      <th>(39, 100]</th>\n",
       "      <td>13</td>\n",
       "      <td>540</td>\n",
       "    </tr>\n",
       "  </tbody>\n",
       "</table>\n",
       "</div>"
      ],
      "text/plain": [
       "           count   sum\n",
       "Age                   \n",
       "(0, 10]       32   271\n",
       "(10, 14]      19   229\n",
       "(14, 19]     136  2284\n",
       "(19, 24]     365  7971\n",
       "(24, 29]     101  2626\n",
       "(29, 34]      73  2291\n",
       "(34, 39]      41  1505\n",
       "(39, 100]     13   540"
      ]
     },
     "execution_count": 28,
     "metadata": {},
     "output_type": "execute_result"
    }
   ],
   "source": [
    "df = purchase_data = pd.read_csv(file_to_load)\n",
    "bins = pd.cut(df['Age'], [0, 10, 14, 19, 24, 29, 34, 39, 100])\n",
    "df.groupby(bins)['Age'].agg(['count', 'sum'])"
   ]
  },
  {
   "cell_type": "markdown",
   "metadata": {},
   "source": [
    "## Purchasing Analysis (Age)"
   ]
  },
  {
   "cell_type": "markdown",
   "metadata": {},
   "source": [
    "* Bin the purchase_data data frame by age\n",
    "\n",
    "\n",
    "* Run basic calculations to obtain purchase count, avg. purchase price, avg. purchase total per person etc. in the table below\n",
    "\n",
    "\n",
    "* Create a summary data frame to hold the results\n",
    "\n",
    "\n",
    "* Optional: give the displayed data cleaner formatting\n",
    "\n",
    "\n",
    "* Display the summary data frame"
   ]
  },
  {
   "cell_type": "code",
   "execution_count": 7,
   "metadata": {},
   "outputs": [
    {
     "data": {
      "text/html": [
       "<div>\n",
       "<table border=\"1\" class=\"dataframe\">\n",
       "  <thead>\n",
       "    <tr style=\"text-align: right;\">\n",
       "      <th></th>\n",
       "      <th>Purchase Count</th>\n",
       "      <th>Average Purchase Price</th>\n",
       "      <th>Total Purchase Value</th>\n",
       "      <th>Avg Total Purchase per Person</th>\n",
       "    </tr>\n",
       "  </thead>\n",
       "  <tbody>\n",
       "    <tr>\n",
       "      <th>10-14</th>\n",
       "      <td>28</td>\n",
       "      <td>$2.96</td>\n",
       "      <td>$82.78</td>\n",
       "      <td>$3.76</td>\n",
       "    </tr>\n",
       "    <tr>\n",
       "      <th>15-19</th>\n",
       "      <td>136</td>\n",
       "      <td>$3.04</td>\n",
       "      <td>$412.89</td>\n",
       "      <td>$3.86</td>\n",
       "    </tr>\n",
       "    <tr>\n",
       "      <th>20-24</th>\n",
       "      <td>365</td>\n",
       "      <td>$3.05</td>\n",
       "      <td>$1,114.06</td>\n",
       "      <td>$4.32</td>\n",
       "    </tr>\n",
       "    <tr>\n",
       "      <th>25-29</th>\n",
       "      <td>101</td>\n",
       "      <td>$2.90</td>\n",
       "      <td>$293.00</td>\n",
       "      <td>$3.81</td>\n",
       "    </tr>\n",
       "    <tr>\n",
       "      <th>30-34</th>\n",
       "      <td>73</td>\n",
       "      <td>$2.93</td>\n",
       "      <td>$214.00</td>\n",
       "      <td>$4.12</td>\n",
       "    </tr>\n",
       "    <tr>\n",
       "      <th>35-39</th>\n",
       "      <td>41</td>\n",
       "      <td>$3.60</td>\n",
       "      <td>$147.67</td>\n",
       "      <td>$4.76</td>\n",
       "    </tr>\n",
       "    <tr>\n",
       "      <th>40+</th>\n",
       "      <td>13</td>\n",
       "      <td>$2.94</td>\n",
       "      <td>$38.24</td>\n",
       "      <td>$3.19</td>\n",
       "    </tr>\n",
       "    <tr>\n",
       "      <th>&lt;10</th>\n",
       "      <td>23</td>\n",
       "      <td>$3.35</td>\n",
       "      <td>$77.13</td>\n",
       "      <td>$4.54</td>\n",
       "    </tr>\n",
       "  </tbody>\n",
       "</table>\n",
       "</div>"
      ],
      "text/plain": [
       "      Purchase Count Average Purchase Price Total Purchase Value  \\\n",
       "10-14             28                  $2.96               $82.78   \n",
       "15-19            136                  $3.04              $412.89   \n",
       "20-24            365                  $3.05            $1,114.06   \n",
       "25-29            101                  $2.90              $293.00   \n",
       "30-34             73                  $2.93              $214.00   \n",
       "35-39             41                  $3.60              $147.67   \n",
       "40+               13                  $2.94               $38.24   \n",
       "<10               23                  $3.35               $77.13   \n",
       "\n",
       "      Avg Total Purchase per Person  \n",
       "10-14                         $3.76  \n",
       "15-19                         $3.86  \n",
       "20-24                         $4.32  \n",
       "25-29                         $3.81  \n",
       "30-34                         $4.12  \n",
       "35-39                         $4.76  \n",
       "40+                           $3.19  \n",
       "<10                           $4.54  "
      ]
     },
     "execution_count": 7,
     "metadata": {},
     "output_type": "execute_result"
    }
   ],
   "source": []
  },
  {
   "cell_type": "markdown",
   "metadata": {},
   "source": [
    "## Top Spenders"
   ]
  },
  {
   "cell_type": "markdown",
   "metadata": {},
   "source": [
    "* Run basic calculations to obtain the results in the table below\n",
    "\n",
    "\n",
    "* Create a summary data frame to hold the results\n",
    "\n",
    "\n",
    "* Sort the total purchase value column in descending order\n",
    "\n",
    "\n",
    "* Optional: give the displayed data cleaner formatting\n",
    "\n",
    "\n",
    "* Display a preview of the summary data frame\n",
    "\n"
   ]
  },
  {
   "cell_type": "code",
   "execution_count": 54,
   "metadata": {},
   "outputs": [
    {
     "name": "stdout",
     "output_type": "stream",
     "text": [
      "SN\n",
      "Adairialis76       2.280000\n",
      "Adastirin33        4.480000\n",
      "Aeda94             4.910000\n",
      "Aela59             4.320000\n",
      "Aelaria33          1.790000\n",
      "Aelastirin39       3.645000\n",
      "Aelidru27          1.090000\n",
      "Aelin32            2.993333\n",
      "Aelly27            3.395000\n",
      "Aellynun67         3.740000\n",
      "Aellyria80         3.080000\n",
      "Aelollo59          2.815000\n",
      "Aenarap34          2.960000\n",
      "Aeral43            4.400000\n",
      "Aeral68            4.000000\n",
      "Aeral97            4.800000\n",
      "Aeralria27         4.090000\n",
      "Aeralstical35      2.960000\n",
      "Aeri84             1.610000\n",
      "Aerillorin70       3.330000\n",
      "Aerithllora36      4.320000\n",
      "Aerithnucal56      4.400000\n",
      "Aerithnuphos61     4.910000\n",
      "Aerithriaphos45    1.560000\n",
      "Aerithriaphos46    2.180000\n",
      "Aesri53            1.760000\n",
      "Aesty53            1.955000\n",
      "Aestysu37          2.690000\n",
      "Aesur96            2.210000\n",
      "Aesurstilis64      1.030000\n",
      "                     ...   \n",
      "Undosia27          3.770000\n",
      "Undosian34         4.150000\n",
      "Undotesta33        4.740000\n",
      "Wailin72           2.730000\n",
      "Yadacal26          3.270000\n",
      "Yadaisuir65        4.090000\n",
      "Yadam35            2.480000\n",
      "Yadanu52           2.380000\n",
      "Yadaphos40         2.675000\n",
      "Yalae81            3.345000\n",
      "Yalaeria91         1.060000\n",
      "Yaliru88           3.030000\n",
      "Yalo85             3.650000\n",
      "Yalostiphos68      4.400000\n",
      "Yana46             3.550000\n",
      "Yarithllodeu72     3.750000\n",
      "Yarithrgue83       3.450000\n",
      "Yarithrin84        4.140000\n",
      "Yarithsurgue62     4.940000\n",
      "Yarolwen77         4.430000\n",
      "Yasrisu92          3.440000\n",
      "Yastyriaphos75     4.750000\n",
      "Yasur35            4.480000\n",
      "Yasur85            1.100000\n",
      "Yathecal72         3.460000\n",
      "Yathecal82         2.073333\n",
      "Yathedeu43         3.010000\n",
      "Yoishirrala98      4.580000\n",
      "Zhisrisu83         3.945000\n",
      "Zontibe81          2.676667\n",
      "Name: Price, Length: 576, dtype: float64\n",
      "SN\n",
      "Adairialis76       2.28\n",
      "Adastirin33        4.48\n",
      "Aeda94             4.91\n",
      "Aela59             4.32\n",
      "Aelaria33          1.79\n",
      "Aelastirin39       7.29\n",
      "Aelidru27          1.09\n",
      "Aelin32            8.98\n",
      "Aelly27            6.79\n",
      "Aellynun67         3.74\n",
      "Aellyria80         3.08\n",
      "Aelollo59          5.63\n",
      "Aenarap34          2.96\n",
      "Aeral43            4.40\n",
      "Aeral68            4.00\n",
      "Aeral97            4.80\n",
      "Aeralria27         4.09\n",
      "Aeralstical35      2.96\n",
      "Aeri84             1.61\n",
      "Aerillorin70       3.33\n",
      "Aerithllora36      8.64\n",
      "Aerithnucal56      4.40\n",
      "Aerithnuphos61     4.91\n",
      "Aerithriaphos45    1.56\n",
      "Aerithriaphos46    2.18\n",
      "Aesri53            1.76\n",
      "Aesty53            3.91\n",
      "Aestysu37          5.38\n",
      "Aesur96            2.21\n",
      "Aesurstilis64      1.03\n",
      "                   ... \n",
      "Undosia27          3.77\n",
      "Undosian34         8.30\n",
      "Undotesta33        4.74\n",
      "Wailin72           2.73\n",
      "Yadacal26          6.54\n",
      "Yadaisuir65        4.09\n",
      "Yadam35            2.48\n",
      "Yadanu52           2.38\n",
      "Yadaphos40         5.35\n",
      "Yalae81            6.69\n",
      "Yalaeria91         1.06\n",
      "Yaliru88           3.03\n",
      "Yalo85             3.65\n",
      "Yalostiphos68      4.40\n",
      "Yana46             3.55\n",
      "Yarithllodeu72     3.75\n",
      "Yarithrgue83       3.45\n",
      "Yarithrin84        4.14\n",
      "Yarithsurgue62     4.94\n",
      "Yarolwen77         4.43\n",
      "Yasrisu92          3.44\n",
      "Yastyriaphos75     4.75\n",
      "Yasur35            4.48\n",
      "Yasur85            1.10\n",
      "Yathecal72         3.46\n",
      "Yathecal82         6.22\n",
      "Yathedeu43         6.02\n",
      "Yoishirrala98      4.58\n",
      "Zhisrisu83         7.89\n",
      "Zontibe81          8.03\n",
      "Name: Price, Length: 576, dtype: float64\n"
     ]
    }
   ],
   "source": [
    "SN_count = df.SN.value_counts()\n",
    "SN_Price = purchase_data.groupby('SN')['Price'].mean()\n",
    "SN_Total = purchase_data.groupby('SN')['Price'].sum()\n",
    "SN_count.head()\n",
    "print(SN_Price)\n",
    "print(SN_Total)"
   ]
  },
  {
   "cell_type": "markdown",
   "metadata": {},
   "source": [
    "## Most Popular Items"
   ]
  },
  {
   "cell_type": "markdown",
   "metadata": {},
   "source": [
    "* Retrieve the Item ID, Item Name, and Item Price columns\n",
    "\n",
    "\n",
    "* Group by Item ID and Item Name. Perform calculations to obtain purchase count, item price, and total purchase value\n",
    "\n",
    "\n",
    "* Create a summary data frame to hold the results\n",
    "\n",
    "\n",
    "* Sort the purchase count column in descending order\n",
    "\n",
    "\n",
    "* Optional: give the displayed data cleaner formatting\n",
    "\n",
    "\n",
    "* Display a preview of the summary data frame\n",
    "\n"
   ]
  },
  {
   "cell_type": "code",
   "execution_count": 63,
   "metadata": {},
   "outputs": [
    {
     "name": "stdout",
     "output_type": "stream",
     "text": [
      "Item Name                                 Price\n",
      "Abyssal Shard                             2.67     5\n",
      "Aetherius, Boon of the Blessed            3.39     5\n",
      "Agatha                                    3.08     6\n",
      "Alpha                                     2.07     3\n",
      "Alpha, Oath of Zeal                       4.05     3\n",
      "Alpha, Reach of Ending Hope               3.58     1\n",
      "Amnesia                                   2.18     6\n",
      "Apocalyptic Battlescythe                  1.97     6\n",
      "Arcane Gem                                3.79     3\n",
      "Avenger                                   3.44     6\n",
      "Azurewrath                                4.40     6\n",
      "Betrayal, Whisper of Grieving Widows      3.94     5\n",
      "Betrayer                                  2.94     1\n",
      "Blade of the Grave                        3.14     4\n",
      "Blazefury, Protector of Delusions         4.64     3\n",
      "Blazeguard, Reach of Eternity             4.91     5\n",
      "Blindscythe                               3.27     5\n",
      "Blood Infused Guardian                    1.94     6\n",
      "Blood-Forged Skeletal Spine               3.09     6\n",
      "Bloodlord's Fetish                        1.70     5\n",
      "Bone Crushing Silver Skewer               4.86     4\n",
      "Bonecarvin Battle Axe                     2.38     5\n",
      "Brimstone                                 3.65     5\n",
      "Brutality Ivory Warmace                   2.42     8\n",
      "Celeste                                   4.17     1\n",
      "Celeste, Incarnation of the Corrupted     3.46     4\n",
      "Chaos, Ender of the End                   1.98     5\n",
      "Conqueror Adamantite Mace                 4.24     5\n",
      "Crucifer                                  3.26     3\n",
      "                                          1.99     1\n",
      "                                                  ..\n",
      "Thorn, Conqueror of the Corrupted         2.73     4\n",
      "Thorn, Satchel of Dark Souls              1.33     7\n",
      "Thunderfury Scimitar                      3.45     5\n",
      "Toothpick                                 4.03     3\n",
      "Torchlight, Bond of Storms                4.65     2\n",
      "Tranquility, Razor of Black Magic         1.75     5\n",
      "Trickster                                 1.55     2\n",
      "Twilight's Carver                         2.28     4\n",
      "Undead Crusader                           4.50     1\n",
      "Unending Tyranny                          2.85     3\n",
      "Unholy Wand                               1.12     2\n",
      "Vengeance Cleaver                         2.05     7\n",
      "Venom Claymore                            1.29     4\n",
      "Verdict                                   2.48     6\n",
      "Victor Iron Spikes                        4.40     4\n",
      "Vindictive Glass Edge                     2.27     3\n",
      "War-Forged Gold Deflector                 1.01     5\n",
      "Warmonger, Gift of Suffering's End        4.03     3\n",
      "Warped Diamond Crusader                   1.40     3\n",
      "Warped Fetish                             3.81     5\n",
      "Warped Iron Scimitar                      3.10     5\n",
      "Whistling Mithril Warblade                1.00     2\n",
      "Winter's Bite                             3.77     8\n",
      "Winterthorn, Defender of Shifting Worlds  2.08     2\n",
      "Woeful Adamantite Claymore                4.48     3\n",
      "Wolf                                      3.54     8\n",
      "Wolf, Promise of the Moonwalker           4.48     6\n",
      "Worldbreaker                              2.60     4\n",
      "Yearning Crusher                          4.18     3\n",
      "Yearning Mageblade                        3.82     5\n",
      "Name: Price, Length: 183, dtype: int64 Item Name                                 Price\n",
      "Abyssal Shard                             2.67     25\n",
      "Aetherius, Boon of the Blessed            3.39     25\n",
      "Agatha                                    3.08     36\n",
      "Alpha                                     2.07      9\n",
      "Alpha, Oath of Zeal                       4.05      9\n",
      "Alpha, Reach of Ending Hope               3.58      1\n",
      "Amnesia                                   2.18     36\n",
      "Apocalyptic Battlescythe                  1.97     36\n",
      "Arcane Gem                                3.79      9\n",
      "Avenger                                   3.44     36\n",
      "Azurewrath                                4.40     36\n",
      "Betrayal, Whisper of Grieving Widows      3.94     25\n",
      "Betrayer                                  2.94      1\n",
      "Blade of the Grave                        3.14     16\n",
      "Blazefury, Protector of Delusions         4.64      9\n",
      "Blazeguard, Reach of Eternity             4.91     25\n",
      "Blindscythe                               3.27     25\n",
      "Blood Infused Guardian                    1.94     36\n",
      "Blood-Forged Skeletal Spine               3.09     36\n",
      "Bloodlord's Fetish                        1.70     25\n",
      "Bone Crushing Silver Skewer               4.86     16\n",
      "Bonecarvin Battle Axe                     2.38     25\n",
      "Brimstone                                 3.65     25\n",
      "Brutality Ivory Warmace                   2.42     64\n",
      "Celeste                                   4.17      1\n",
      "Celeste, Incarnation of the Corrupted     3.46     16\n",
      "Chaos, Ender of the End                   1.98     25\n",
      "Conqueror Adamantite Mace                 4.24     25\n",
      "Crucifer                                  3.26     12\n",
      "                                          1.99      4\n",
      "                                                   ..\n",
      "Thorn, Conqueror of the Corrupted         2.73     16\n",
      "Thorn, Satchel of Dark Souls              1.33     49\n",
      "Thunderfury Scimitar                      3.45     25\n",
      "Toothpick                                 4.03      9\n",
      "Torchlight, Bond of Storms                4.65      4\n",
      "Tranquility, Razor of Black Magic         1.75     25\n",
      "Trickster                                 1.55      4\n",
      "Twilight's Carver                         2.28     16\n",
      "Undead Crusader                           4.50      1\n",
      "Unending Tyranny                          2.85      9\n",
      "Unholy Wand                               1.12      4\n",
      "Vengeance Cleaver                         2.05     49\n",
      "Venom Claymore                            1.29     16\n",
      "Verdict                                   2.48     36\n",
      "Victor Iron Spikes                        4.40     16\n",
      "Vindictive Glass Edge                     2.27      9\n",
      "War-Forged Gold Deflector                 1.01     25\n",
      "Warmonger, Gift of Suffering's End        4.03      9\n",
      "Warped Diamond Crusader                   1.40      9\n",
      "Warped Fetish                             3.81     25\n",
      "Warped Iron Scimitar                      3.10     25\n",
      "Whistling Mithril Warblade                1.00      4\n",
      "Winter's Bite                             3.77     64\n",
      "Winterthorn, Defender of Shifting Worlds  2.08      4\n",
      "Woeful Adamantite Claymore                4.48      9\n",
      "Wolf                                      3.54     64\n",
      "Wolf, Promise of the Moonwalker           4.48     36\n",
      "Worldbreaker                              2.60     16\n",
      "Yearning Crusher                          4.18      9\n",
      "Yearning Mageblade                        3.82     25\n",
      "Length: 183, dtype: int64\n"
     ]
    }
   ],
   "source": [
    "purchase_ID = purchase_data.groupby('Item Name')['Item ID'].count()\n",
    "Item_price = purchase_data.groupby('Item Name')['Price'].value_counts()\n",
    "Total_Value = purchase_ID*Item_price\n",
    "purchase_ID.head()\n",
    "print(Item_price, Total_Value)\n"
   ]
  },
  {
   "cell_type": "markdown",
   "metadata": {},
   "source": [
    "## Most Profitable Items"
   ]
  },
  {
   "cell_type": "markdown",
   "metadata": {},
   "source": [
    "* Sort the above table by total purchase value in descending order\n",
    "\n",
    "\n",
    "* Optional: give the displayed data cleaner formatting\n",
    "\n",
    "\n",
    "* Display a preview of the data frame\n",
    "\n"
   ]
  },
  {
   "cell_type": "code",
   "execution_count": 65,
   "metadata": {
    "scrolled": true
   },
   "outputs": [
    {
     "data": {
      "text/plain": [
       "Item Name\n",
       "Final Critic                                    13\n",
       "Oathbreaker, Last Hope of the Breaking Storm    12\n",
       "Nirvana                                          9\n",
       "Persuasion                                       9\n",
       "Fiery Glass Crusader                             9\n",
       "Extraction, Quickblade Of Trembling Hands        9\n",
       "Singed Scalpel                                   8\n",
       "Lightning, Etcher of the King                    8\n",
       "Brutality Ivory Warmace                          8\n",
       "Retribution Axe                                  8\n",
       "Winter's Bite                                    8\n",
       "Shadow Strike, Glory of Ending Hope              8\n",
       "Wolf                                             8\n",
       "Pursuit, Cudgel of Necromancy                    8\n",
       "Glimmer, Ender of the Moon                       7\n",
       "Thorn, Satchel of Dark Souls                     7\n",
       "Heartstriker, Legacy of the Light                7\n",
       "Exiled Doomblade                                 7\n",
       "Demise                                           7\n",
       "Vengeance Cleaver                                7\n",
       "Malificent Bag                                   7\n",
       "Oathbreaker, Spellblade of Trials                7\n",
       "Suspension                                       7\n",
       "Frenzied Scimitar                                6\n",
       "Fate, Vengeance of Eternal Justice               6\n",
       "Ghastly Adamantite Protector                     6\n",
       "Eternal Cleaver                                  6\n",
       "Hero Cane                                        6\n",
       "Phantomlight                                     6\n",
       "Amnesia                                          6\n",
       "                                                ..\n",
       "Flux, Destroyer of Due Diligence                 2\n",
       "Relentless Iron Skewer                           2\n",
       "Heartseeker, Reaver of Souls                     2\n",
       "Winterthorn, Defender of Shifting Worlds         2\n",
       "Whistling Mithril Warblade                       2\n",
       "Spectral Diamond Doomblade                       2\n",
       "Dreamkiss                                        2\n",
       "Frenzy, Defender of the Harvest                  2\n",
       "Rage, Legacy of the Lone Victor                  2\n",
       "Foul Titanium Battle Axe                         2\n",
       "Rusty Skull                                      2\n",
       "Foul Edge                                        2\n",
       "Stormfury Longsword                              2\n",
       "Possessed Core                                   2\n",
       "Curved Axe                                       2\n",
       "Trickster                                        2\n",
       "Torchlight, Bond of Storms                       2\n",
       "Stormfury Mace                                   2\n",
       "Sun Strike, Jaws of Twisted Visions              2\n",
       "Unholy Wand                                      2\n",
       "Celeste                                          1\n",
       "Betrayer                                         1\n",
       "Riddle, Tribute of Ended Dreams                  1\n",
       "Undead Crusader                                  1\n",
       "Endbringer                                       1\n",
       "Alpha, Reach of Ending Hope                      1\n",
       "Ghost Reaver, Longsword of Magic                 1\n",
       "Gladiator's Glaive                               1\n",
       "The Decapitator                                  1\n",
       "Exiled Mithril Longsword                         1\n",
       "Name: Item ID, Length: 179, dtype: int64"
      ]
     },
     "execution_count": 65,
     "metadata": {},
     "output_type": "execute_result"
    }
   ],
   "source": [
    "purchase_ID.sort_values(ascending=False)"
   ]
  },
  {
   "cell_type": "code",
   "execution_count": null,
   "metadata": {},
   "outputs": [],
   "source": []
  }
 ],
 "metadata": {
  "anaconda-cloud": {},
  "kernel_info": {
   "name": "python3"
  },
  "kernelspec": {
   "display_name": "Python 3",
   "language": "python",
   "name": "python3"
  },
  "language_info": {
   "codemirror_mode": {
    "name": "ipython",
    "version": 3
   },
   "file_extension": ".py",
   "mimetype": "text/x-python",
   "name": "python",
   "nbconvert_exporter": "python",
   "pygments_lexer": "ipython3",
   "version": "3.7.0"
  },
  "nteract": {
   "version": "0.2.0"
  }
 },
 "nbformat": 4,
 "nbformat_minor": 2
}
